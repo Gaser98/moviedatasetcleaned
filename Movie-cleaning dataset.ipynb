{
 "cells": [
  {
   "cell_type": "code",
   "execution_count": 35,
   "metadata": {},
   "outputs": [],
   "source": [
    "import pandas as pd\n",
    "import numpy as np\n",
    "import seaborn as sns\n",
    "import matplotlib.pyplot as plt \n",
    "from pandas_profiling import ProfileReport"
   ]
  },
  {
   "cell_type": "code",
   "execution_count": 36,
   "metadata": {},
   "outputs": [
    {
     "data": {
      "application/vnd.jupyter.widget-view+json": {
       "model_id": "07946419d3d846aba6d77dbba89ec644",
       "version_major": 2,
       "version_minor": 0
      },
      "text/plain": [
       "HBox(children=(FloatProgress(value=0.0, description='Summarize dataset', max=30.0, style=ProgressStyle(descrip…"
      ]
     },
     "metadata": {},
     "output_type": "display_data"
    },
    {
     "name": "stdout",
     "output_type": "stream",
     "text": [
      "\n"
     ]
    },
    {
     "data": {
      "application/vnd.jupyter.widget-view+json": {
       "model_id": "bbb575c5a7494f6b96760816d6cb52bd",
       "version_major": 2,
       "version_minor": 0
      },
      "text/plain": [
       "HBox(children=(FloatProgress(value=0.0, description='Generate report structure', max=1.0, style=ProgressStyle(…"
      ]
     },
     "metadata": {},
     "output_type": "display_data"
    },
    {
     "name": "stdout",
     "output_type": "stream",
     "text": [
      "\n"
     ]
    },
    {
     "data": {
      "application/vnd.jupyter.widget-view+json": {
       "model_id": "",
       "version_major": 2,
       "version_minor": 0
      },
      "text/plain": [
       "HBox(children=(FloatProgress(value=0.0, description='Render widgets', max=1.0, style=ProgressStyle(description…"
      ]
     },
     "metadata": {},
     "output_type": "display_data"
    },
    {
     "data": {
      "application/vnd.jupyter.widget-view+json": {
       "model_id": "07a478c0e1ef468781670c9872546a36",
       "version_major": 2,
       "version_minor": 0
      },
      "text/plain": [
       "VBox(children=(Tab(children=(Tab(children=(GridBox(children=(VBox(children=(GridspecLayout(children=(HTML(valu…"
      ]
     },
     "metadata": {},
     "output_type": "display_data"
    },
    {
     "data": {
      "application/vnd.jupyter.widget-view+json": {
       "model_id": "9d26b23be4464ac3aa76b3c97940d68d",
       "version_major": 2,
       "version_minor": 0
      },
      "text/plain": [
       "HBox(children=(FloatProgress(value=0.0, description='Render HTML', max=1.0, style=ProgressStyle(description_wi…"
      ]
     },
     "metadata": {},
     "output_type": "display_data"
    },
    {
     "name": "stdout",
     "output_type": "stream",
     "text": [
      "\n"
     ]
    },
    {
     "data": {
      "application/vnd.jupyter.widget-view+json": {
       "model_id": "204d8d20eebb402b98b729070bdd3c38",
       "version_major": 2,
       "version_minor": 0
      },
      "text/plain": [
       "HBox(children=(FloatProgress(value=0.0, description='Export report to file', max=1.0, style=ProgressStyle(desc…"
      ]
     },
     "metadata": {},
     "output_type": "display_data"
    },
    {
     "name": "stdout",
     "output_type": "stream",
     "text": [
      "\n"
     ]
    },
    {
     "data": {
      "text/html": [
       "<div>\n",
       "<style scoped>\n",
       "    .dataframe tbody tr th:only-of-type {\n",
       "        vertical-align: middle;\n",
       "    }\n",
       "\n",
       "    .dataframe tbody tr th {\n",
       "        vertical-align: top;\n",
       "    }\n",
       "\n",
       "    .dataframe thead th {\n",
       "        text-align: right;\n",
       "    }\n",
       "</style>\n",
       "<table border=\"1\" class=\"dataframe\">\n",
       "  <thead>\n",
       "    <tr style=\"text-align: right;\">\n",
       "      <th></th>\n",
       "      <th>count</th>\n",
       "      <th>mean</th>\n",
       "      <th>std</th>\n",
       "      <th>min</th>\n",
       "      <th>25%</th>\n",
       "      <th>50%</th>\n",
       "      <th>75%</th>\n",
       "      <th>max</th>\n",
       "    </tr>\n",
       "  </thead>\n",
       "  <tbody>\n",
       "    <tr>\n",
       "      <th>num_critic_for_reviews</th>\n",
       "      <td>14.0</td>\n",
       "      <td>5.061429e+02</td>\n",
       "      <td>1.690698e+02</td>\n",
       "      <td>302.0</td>\n",
       "      <td>3.792500e+02</td>\n",
       "      <td>448.0</td>\n",
       "      <td>6.350000e+02</td>\n",
       "      <td>813.0</td>\n",
       "    </tr>\n",
       "    <tr>\n",
       "      <th>duration</th>\n",
       "      <td>11.0</td>\n",
       "      <td>1.507273e+02</td>\n",
       "      <td>2.167990e+01</td>\n",
       "      <td>106.0</td>\n",
       "      <td>1.410000e+02</td>\n",
       "      <td>151.0</td>\n",
       "      <td>1.625000e+02</td>\n",
       "      <td>183.0</td>\n",
       "    </tr>\n",
       "    <tr>\n",
       "      <th>actor_3_facebook_likes</th>\n",
       "      <td>14.0</td>\n",
       "      <td>5.866143e+03</td>\n",
       "      <td>8.289593e+03</td>\n",
       "      <td>161.0</td>\n",
       "      <td>6.112500e+02</td>\n",
       "      <td>1000.0</td>\n",
       "      <td>8.500000e+03</td>\n",
       "      <td>23000.0</td>\n",
       "    </tr>\n",
       "    <tr>\n",
       "      <th>ACTOR_1_facebook_likes</th>\n",
       "      <td>14.0</td>\n",
       "      <td>1.820643e+04</td>\n",
       "      <td>1.390521e+04</td>\n",
       "      <td>451.0</td>\n",
       "      <td>3.500000e+03</td>\n",
       "      <td>21000.0</td>\n",
       "      <td>2.600000e+04</td>\n",
       "      <td>40000.0</td>\n",
       "    </tr>\n",
       "    <tr>\n",
       "      <th>gross</th>\n",
       "      <td>14.0</td>\n",
       "      <td>3.335836e+08</td>\n",
       "      <td>1.720674e+08</td>\n",
       "      <td>73058679.0</td>\n",
       "      <td>2.002574e+08</td>\n",
       "      <td>319826607.0</td>\n",
       "      <td>4.418561e+08</td>\n",
       "      <td>760505847.0</td>\n",
       "    </tr>\n",
       "    <tr>\n",
       "      <th>num_voted_users</th>\n",
       "      <td>13.0</td>\n",
       "      <td>4.621578e+05</td>\n",
       "      <td>2.687059e+05</td>\n",
       "      <td>212204.0</td>\n",
       "      <td>2.948100e+05</td>\n",
       "      <td>383056.0</td>\n",
       "      <td>4.712200e+05</td>\n",
       "      <td>1144337.0</td>\n",
       "    </tr>\n",
       "    <tr>\n",
       "      <th>Cast_Total_facebook_likes</th>\n",
       "      <td>12.0</td>\n",
       "      <td>4.477358e+04</td>\n",
       "      <td>3.729081e+04</td>\n",
       "      <td>1873.0</td>\n",
       "      <td>9.983500e+03</td>\n",
       "      <td>47202.5</td>\n",
       "      <td>6.706475e+04</td>\n",
       "      <td>106759.0</td>\n",
       "    </tr>\n",
       "    <tr>\n",
       "      <th>facenumber_in_poster</th>\n",
       "      <td>9.0</td>\n",
       "      <td>2.111111e+00</td>\n",
       "      <td>1.269296e+00</td>\n",
       "      <td>1.0</td>\n",
       "      <td>1.000000e+00</td>\n",
       "      <td>2.0</td>\n",
       "      <td>3.000000e+00</td>\n",
       "      <td>4.0</td>\n",
       "    </tr>\n",
       "    <tr>\n",
       "      <th>num_user_for_reviews</th>\n",
       "      <td>14.0</td>\n",
       "      <td>1.620071e+03</td>\n",
       "      <td>8.666721e+02</td>\n",
       "      <td>387.0</td>\n",
       "      <td>1.024750e+03</td>\n",
       "      <td>1240.5</td>\n",
       "      <td>2.250750e+03</td>\n",
       "      <td>3054.0</td>\n",
       "    </tr>\n",
       "    <tr>\n",
       "      <th>budget</th>\n",
       "      <td>14.0</td>\n",
       "      <td>2.462643e+08</td>\n",
       "      <td>2.426823e+07</td>\n",
       "      <td>200000000.0</td>\n",
       "      <td>2.390000e+08</td>\n",
       "      <td>250000000.0</td>\n",
       "      <td>2.560000e+08</td>\n",
       "      <td>300000000.0</td>\n",
       "    </tr>\n",
       "    <tr>\n",
       "      <th>title_year</th>\n",
       "      <td>14.0</td>\n",
       "      <td>2.010500e+03</td>\n",
       "      <td>3.632122e+00</td>\n",
       "      <td>2006.0</td>\n",
       "      <td>2.007250e+03</td>\n",
       "      <td>2009.5</td>\n",
       "      <td>2.014250e+03</td>\n",
       "      <td>2016.0</td>\n",
       "    </tr>\n",
       "    <tr>\n",
       "      <th>ACTOR_2_facebook_likes</th>\n",
       "      <td>13.0</td>\n",
       "      <td>8.455846e+03</td>\n",
       "      <td>8.541020e+03</td>\n",
       "      <td>393.0</td>\n",
       "      <td>6.320000e+02</td>\n",
       "      <td>5000.0</td>\n",
       "      <td>1.100000e+04</td>\n",
       "      <td>23000.0</td>\n",
       "    </tr>\n",
       "    <tr>\n",
       "      <th>imdb_score</th>\n",
       "      <td>14.0</td>\n",
       "      <td>7.171429e+00</td>\n",
       "      <td>6.730283e-01</td>\n",
       "      <td>6.1</td>\n",
       "      <td>6.725000e+00</td>\n",
       "      <td>7.2</td>\n",
       "      <td>7.500000e+00</td>\n",
       "      <td>8.5</td>\n",
       "    </tr>\n",
       "    <tr>\n",
       "      <th>title_year.1</th>\n",
       "      <td>7.0</td>\n",
       "      <td>2.011143e+03</td>\n",
       "      <td>3.976119e+00</td>\n",
       "      <td>2007.0</td>\n",
       "      <td>2.008000e+03</td>\n",
       "      <td>2009.0</td>\n",
       "      <td>2.015000e+03</td>\n",
       "      <td>2016.0</td>\n",
       "    </tr>\n",
       "  </tbody>\n",
       "</table>\n",
       "</div>"
      ],
      "text/plain": [
       "                           count          mean           std          min  \\\n",
       "num_critic_for_reviews      14.0  5.061429e+02  1.690698e+02        302.0   \n",
       "duration                    11.0  1.507273e+02  2.167990e+01        106.0   \n",
       "actor_3_facebook_likes      14.0  5.866143e+03  8.289593e+03        161.0   \n",
       "ACTOR_1_facebook_likes      14.0  1.820643e+04  1.390521e+04        451.0   \n",
       "gross                       14.0  3.335836e+08  1.720674e+08   73058679.0   \n",
       "num_voted_users             13.0  4.621578e+05  2.687059e+05     212204.0   \n",
       "Cast_Total_facebook_likes   12.0  4.477358e+04  3.729081e+04       1873.0   \n",
       "facenumber_in_poster         9.0  2.111111e+00  1.269296e+00          1.0   \n",
       "num_user_for_reviews        14.0  1.620071e+03  8.666721e+02        387.0   \n",
       "budget                      14.0  2.462643e+08  2.426823e+07  200000000.0   \n",
       "title_year                  14.0  2.010500e+03  3.632122e+00       2006.0   \n",
       "ACTOR_2_facebook_likes      13.0  8.455846e+03  8.541020e+03        393.0   \n",
       "imdb_score                  14.0  7.171429e+00  6.730283e-01          6.1   \n",
       "title_year.1                 7.0  2.011143e+03  3.976119e+00       2007.0   \n",
       "\n",
       "                                    25%          50%           75%  \\\n",
       "num_critic_for_reviews     3.792500e+02        448.0  6.350000e+02   \n",
       "duration                   1.410000e+02        151.0  1.625000e+02   \n",
       "actor_3_facebook_likes     6.112500e+02       1000.0  8.500000e+03   \n",
       "ACTOR_1_facebook_likes     3.500000e+03      21000.0  2.600000e+04   \n",
       "gross                      2.002574e+08  319826607.0  4.418561e+08   \n",
       "num_voted_users            2.948100e+05     383056.0  4.712200e+05   \n",
       "Cast_Total_facebook_likes  9.983500e+03      47202.5  6.706475e+04   \n",
       "facenumber_in_poster       1.000000e+00          2.0  3.000000e+00   \n",
       "num_user_for_reviews       1.024750e+03       1240.5  2.250750e+03   \n",
       "budget                     2.390000e+08  250000000.0  2.560000e+08   \n",
       "title_year                 2.007250e+03       2009.5  2.014250e+03   \n",
       "ACTOR_2_facebook_likes     6.320000e+02       5000.0  1.100000e+04   \n",
       "imdb_score                 6.725000e+00          7.2  7.500000e+00   \n",
       "title_year.1               2.008000e+03       2009.0  2.015000e+03   \n",
       "\n",
       "                                   max  \n",
       "num_critic_for_reviews           813.0  \n",
       "duration                         183.0  \n",
       "actor_3_facebook_likes         23000.0  \n",
       "ACTOR_1_facebook_likes         40000.0  \n",
       "gross                      760505847.0  \n",
       "num_voted_users              1144337.0  \n",
       "Cast_Total_facebook_likes     106759.0  \n",
       "facenumber_in_poster               4.0  \n",
       "num_user_for_reviews            3054.0  \n",
       "budget                     300000000.0  \n",
       "title_year                      2016.0  \n",
       "ACTOR_2_facebook_likes         23000.0  \n",
       "imdb_score                         8.5  \n",
       "title_year.1                    2016.0  "
      ]
     },
     "execution_count": 36,
     "metadata": {},
     "output_type": "execute_result"
    }
   ],
   "source": [
    "#importing flat file \n",
    "df=pd.read_csv('Movie - Data Set for Cleaning - Sheet1.csv')\n",
    "#EDA\n",
    "profile = ProfileReport(df, title=\"Pandas Profiling Report\")\n",
    "profile.to_widgets()\n",
    "profile.to_file(\"your_report.html\")\n",
    "df.describe().T"
   ]
  },
  {
   "cell_type": "code",
   "execution_count": 4,
   "metadata": {},
   "outputs": [
    {
     "name": "stdout",
     "output_type": "stream",
     "text": [
      "<class 'pandas.core.frame.DataFrame'>\n",
      "RangeIndex: 14 entries, 0 to 13\n",
      "Data columns (total 16 columns):\n",
      " #   Column                     Non-Null Count  Dtype  \n",
      "---  ------                     --------------  -----  \n",
      " 0   movie_title                14 non-null     object \n",
      " 1   num_critic_for_reviews     14 non-null     int64  \n",
      " 2   duration                   11 non-null     float64\n",
      " 3   DIRECTOR_facebook_likes    12 non-null     object \n",
      " 4   actor_3_facebook_likes     14 non-null     int64  \n",
      " 5   ACTOR_1_facebook_likes     14 non-null     int64  \n",
      " 6   gross                      14 non-null     int64  \n",
      " 7   num_voted_users            13 non-null     float64\n",
      " 8   Cast_Total_facebook_likes  12 non-null     float64\n",
      " 9   facenumber_in_poster       9 non-null      float64\n",
      " 10  num_user_for_reviews       14 non-null     int64  \n",
      " 11  budget                     14 non-null     int64  \n",
      " 12  title_year                 14 non-null     int64  \n",
      " 13  ACTOR_2_facebook_likes     13 non-null     float64\n",
      " 14  imdb_score                 14 non-null     float64\n",
      " 15  title_year.1               7 non-null      float64\n",
      "dtypes: float64(7), int64(7), object(2)\n",
      "memory usage: 1.9+ KB\n"
     ]
    }
   ],
   "source": [
    "df.info()"
   ]
  },
  {
   "cell_type": "code",
   "execution_count": null,
   "metadata": {},
   "outputs": [],
   "source": [
    "#after exploring the data set:\n",
    "#No duplicates to remove\n",
    "#we can drop title_year.1 as it's an uncomplete copy of title_year\n",
    "#we can strip spaces and adjust cell formats \n",
    "#we can fill in for missing values either with the average of its column or drop the rows with a lot of missing values"
   ]
  },
  {
   "cell_type": "code",
   "execution_count": 16,
   "metadata": {},
   "outputs": [
    {
     "data": {
      "text/plain": [
       "0                                      Avatar\n",
       "1    Pirates of the Caribbean: At World's End\n",
       "2                                     Spectre\n",
       "3                       The Dark Knight Rises\n",
       "4                                 John Carter\n",
       "Name: movie_title, dtype: object"
      ]
     },
     "execution_count": 16,
     "metadata": {},
     "output_type": "execute_result"
    }
   ],
   "source": [
    "#data_cleaning\n",
    "#removing ?ÿ from movie_title\n",
    "df1=df['movie_title'].str.strip('?ÿ')\n",
    "df1.head()"
   ]
  },
  {
   "cell_type": "code",
   "execution_count": 42,
   "metadata": {},
   "outputs": [],
   "source": [
    "#drop title_year.1 from df\n",
    "df2=df.drop(['title_year.1'], axis =1, inplace=True)"
   ]
  },
  {
   "cell_type": "code",
   "execution_count": 41,
   "metadata": {},
   "outputs": [
    {
     "data": {
      "text/plain": [
       "0       10\n",
       "1      563\n",
       "2       20\n",
       "3    22000\n",
       "4      475\n",
       "Name: DIRECTOR_facebook_likes, dtype: object"
      ]
     },
     "execution_count": 41,
     "metadata": {},
     "output_type": "execute_result"
    }
   ],
   "source": [
    "#adjust format in DIRECTOR_facebook_likes \n",
    "df3=df['DIRECTOR_facebook_likes'].str.strip('\"\"')\n",
    "df3.head()"
   ]
  },
  {
   "cell_type": "code",
   "execution_count": 46,
   "metadata": {},
   "outputs": [
    {
     "data": {
      "text/plain": [
       "0     178.0\n",
       "1       0.0\n",
       "2     148.0\n",
       "3       0.0\n",
       "4     132.0\n",
       "5     156.0\n",
       "6       0.0\n",
       "7     141.0\n",
       "8     141.0\n",
       "9     153.0\n",
       "10    183.0\n",
       "11    169.0\n",
       "12    106.0\n",
       "13    151.0\n",
       "Name: duration, dtype: float64"
      ]
     },
     "execution_count": 46,
     "metadata": {},
     "output_type": "execute_result"
    }
   ],
   "source": [
    "#filling for missing numeric values with average of values in its column or zeros to facilitate calculations\n",
    "df['duration'].fillna(0)"
   ]
  },
  {
   "cell_type": "code",
   "execution_count": null,
   "metadata": {},
   "outputs": [],
   "source": []
  }
 ],
 "metadata": {
  "kernelspec": {
   "display_name": "Python 3",
   "language": "python",
   "name": "python3"
  },
  "language_info": {
   "codemirror_mode": {
    "name": "ipython",
    "version": 3
   },
   "file_extension": ".py",
   "mimetype": "text/x-python",
   "name": "python",
   "nbconvert_exporter": "python",
   "pygments_lexer": "ipython3",
   "version": "3.8.3"
  }
 },
 "nbformat": 4,
 "nbformat_minor": 4
}
